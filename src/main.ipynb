{
 "cells": [
  {
   "cell_type": "markdown",
   "metadata": {},
   "source": [
    "### Accesing the dataset\n",
    "\n",
    "#### In the real version this will be done by accesing a real database, capable of managing data volumes proper of big data "
   ]
  },
  {
   "cell_type": "code",
   "execution_count": 1,
   "metadata": {},
   "outputs": [],
   "source": [
    "import pandas as pd"
   ]
  },
  {
   "cell_type": "code",
   "execution_count": 2,
   "metadata": {},
   "outputs": [],
   "source": [
    "df = pd.read_csv(\"D:\\\\data-sc\\\\job_seeker\\\\dataset\\\\dice_com-job_us_sample.csv\", sep=\",\")"
   ]
  },
  {
   "cell_type": "code",
   "execution_count": 10,
   "metadata": {},
   "outputs": [
    {
     "name": "stdout",
     "output_type": "stream",
     "text": [
      "(22000, 10)\n"
     ]
    },
    {
     "data": {
      "text/html": [
       "<div>\n",
       "<style scoped>\n",
       "    .dataframe tbody tr th:only-of-type {\n",
       "        vertical-align: middle;\n",
       "    }\n",
       "\n",
       "    .dataframe tbody tr th {\n",
       "        vertical-align: top;\n",
       "    }\n",
       "\n",
       "    .dataframe thead th {\n",
       "        text-align: right;\n",
       "    }\n",
       "</style>\n",
       "<table border=\"1\" class=\"dataframe\">\n",
       "  <thead>\n",
       "    <tr style=\"text-align: right;\">\n",
       "      <th></th>\n",
       "      <th>index</th>\n",
       "      <th>advertiserurl</th>\n",
       "      <th>company</th>\n",
       "      <th>employmenttype_jobstatus</th>\n",
       "      <th>jobdescription</th>\n",
       "      <th>joblocation_address</th>\n",
       "      <th>jobtitle</th>\n",
       "      <th>postdate</th>\n",
       "      <th>shift</th>\n",
       "      <th>skills</th>\n",
       "    </tr>\n",
       "  </thead>\n",
       "  <tbody>\n",
       "    <tr>\n",
       "      <th>21995</th>\n",
       "      <td>21995</td>\n",
       "      <td>https://www.dice.com/jobs/detail/Web-Designer-...</td>\n",
       "      <td>IAC Publishing</td>\n",
       "      <td>Full Time</td>\n",
       "      <td>Company Description We are searching for a ta...</td>\n",
       "      <td>Oakland, CA</td>\n",
       "      <td>Web Designer</td>\n",
       "      <td>3 weeks ago</td>\n",
       "      <td>Telecommuting not available|Travel not required</td>\n",
       "      <td>UI/UX mobile apps, interaction design, digital...</td>\n",
       "    </tr>\n",
       "    <tr>\n",
       "      <th>21996</th>\n",
       "      <td>21996</td>\n",
       "      <td>https://www.dice.com/jobs/detail/Senior-Front-...</td>\n",
       "      <td>Omega Solutions Inc</td>\n",
       "      <td>Full Time</td>\n",
       "      <td>CONTACT - priya@omegasolutioninc.com / 408-45...</td>\n",
       "      <td>San Francisco, CA</td>\n",
       "      <td>Senior Front End Web Developer - Full Time at ...</td>\n",
       "      <td>3 weeks ago</td>\n",
       "      <td>Telecommuting not available|Travel not required</td>\n",
       "      <td>JavaScript, HTML5, CSS3, Bootstrap, AJAX, Reac...</td>\n",
       "    </tr>\n",
       "    <tr>\n",
       "      <th>21997</th>\n",
       "      <td>21997</td>\n",
       "      <td>https://www.dice.com/jobs/detail/QA-Analyst-Sa...</td>\n",
       "      <td>San Francisco Health Plan</td>\n",
       "      <td>Full Time</td>\n",
       "      <td>Do you take pride in your work knowing that th...</td>\n",
       "      <td>San Francisco, CA</td>\n",
       "      <td>QA Analyst</td>\n",
       "      <td>2 weeks ago</td>\n",
       "      <td>Telecommuting not available|Travel not required</td>\n",
       "      <td>SDLC, ALM, SQL, T-SQL, RedGate, Team Foundatio...</td>\n",
       "    </tr>\n",
       "    <tr>\n",
       "      <th>21998</th>\n",
       "      <td>21998</td>\n",
       "      <td>https://www.dice.com/jobs/detail/Tech-Lead%252...</td>\n",
       "      <td>IAC Publishing</td>\n",
       "      <td>Full Time</td>\n",
       "      <td>Company Description What We Can Offer YouAs th...</td>\n",
       "      <td>Oakland, CA</td>\n",
       "      <td>Tech Lead-Full Stack</td>\n",
       "      <td>2 weeks ago</td>\n",
       "      <td>Telecommuting not available|Travel not required</td>\n",
       "      <td>Python, Ruby, Go, Clojure, Java, NoSQL-Databas...</td>\n",
       "    </tr>\n",
       "    <tr>\n",
       "      <th>21999</th>\n",
       "      <td>21999</td>\n",
       "      <td>https://www.dice.com/jobs/detail/C%2526%252347...</td>\n",
       "      <td>Technology Resource Group</td>\n",
       "      <td>Full Time, Full Time</td>\n",
       "      <td>Experience in C/C++ ProgrammingDevelopment exp...</td>\n",
       "      <td>Santa Clara, CA</td>\n",
       "      <td>C/C++ Programmer</td>\n",
       "      <td>2 weeks ago</td>\n",
       "      <td>Telecommuting not available|Travel not required</td>\n",
       "      <td>Null</td>\n",
       "    </tr>\n",
       "  </tbody>\n",
       "</table>\n",
       "</div>"
      ],
      "text/plain": [
       "       index                                      advertiserurl  \\\n",
       "21995  21995  https://www.dice.com/jobs/detail/Web-Designer-...   \n",
       "21996  21996  https://www.dice.com/jobs/detail/Senior-Front-...   \n",
       "21997  21997  https://www.dice.com/jobs/detail/QA-Analyst-Sa...   \n",
       "21998  21998  https://www.dice.com/jobs/detail/Tech-Lead%252...   \n",
       "21999  21999  https://www.dice.com/jobs/detail/C%2526%252347...   \n",
       "\n",
       "                         company employmenttype_jobstatus  \\\n",
       "21995             IAC Publishing                Full Time   \n",
       "21996        Omega Solutions Inc                Full Time   \n",
       "21997  San Francisco Health Plan                Full Time   \n",
       "21998             IAC Publishing                Full Time   \n",
       "21999  Technology Resource Group     Full Time, Full Time   \n",
       "\n",
       "                                          jobdescription joblocation_address  \\\n",
       "21995   Company Description We are searching for a ta...         Oakland, CA   \n",
       "21996   CONTACT - priya@omegasolutioninc.com / 408-45...   San Francisco, CA   \n",
       "21997  Do you take pride in your work knowing that th...   San Francisco, CA   \n",
       "21998  Company Description What We Can Offer YouAs th...         Oakland, CA   \n",
       "21999  Experience in C/C++ ProgrammingDevelopment exp...     Santa Clara, CA   \n",
       "\n",
       "                                                jobtitle     postdate  \\\n",
       "21995                                       Web Designer  3 weeks ago   \n",
       "21996  Senior Front End Web Developer - Full Time at ...  3 weeks ago   \n",
       "21997                                         QA Analyst  2 weeks ago   \n",
       "21998                               Tech Lead-Full Stack  2 weeks ago   \n",
       "21999                                   C/C++ Programmer  2 weeks ago   \n",
       "\n",
       "                                                 shift  \\\n",
       "21995  Telecommuting not available|Travel not required   \n",
       "21996  Telecommuting not available|Travel not required   \n",
       "21997  Telecommuting not available|Travel not required   \n",
       "21998  Telecommuting not available|Travel not required   \n",
       "21999  Telecommuting not available|Travel not required   \n",
       "\n",
       "                                                  skills  \n",
       "21995  UI/UX mobile apps, interaction design, digital...  \n",
       "21996  JavaScript, HTML5, CSS3, Bootstrap, AJAX, Reac...  \n",
       "21997  SDLC, ALM, SQL, T-SQL, RedGate, Team Foundatio...  \n",
       "21998  Python, Ruby, Go, Clojure, Java, NoSQL-Databas...  \n",
       "21999                                               Null  "
      ]
     },
     "execution_count": 10,
     "metadata": {},
     "output_type": "execute_result"
    }
   ],
   "source": [
    "print(df.shape)\n",
    "df.tail()"
   ]
  },
  {
   "cell_type": "code",
   "execution_count": null,
   "metadata": {},
   "outputs": [],
   "source": [
    "# Dropping useless or mainly empty columns\n",
    "\n",
    "df.drop(columns=[\"jobid\",\"site_name\",\"uniq_id\"], inplace=True)"
   ]
  },
  {
   "cell_type": "code",
   "execution_count": 24,
   "metadata": {},
   "outputs": [],
   "source": [
    "df.dropna(inplace=True)"
   ]
  },
  {
   "cell_type": "markdown",
   "metadata": {},
   "source": [
    "#### In order to succesfully extract information from the job postings we need to understand how the system is going to work, so lets ask some questions:\n",
    "\n",
    "### What will we ask the job-seekers to compare against job posts? \n",
    "        \n",
    "        - Skills (probably from 3 to 10 or 15 or whatever is most optimal)\n",
    "        - What tittle they feel adapts best to them (ex: data scientist, designer)\n",
    "\n",
    "Lets start with those. \n",
    "\n",
    "\n",
    "### What information we want to extract from job posts? \n",
    "\n",
    "        - A category they belong to in order to group them\n",
    "        - Skills their requiere (extracter from a skill section and/or the general description using NPL)\n",
    "        - Specific characteristics of the job (is it remote?, employment type, location, salary range, \n",
    "          experience level, custom keywords)"
   ]
  },
  {
   "cell_type": "markdown",
   "metadata": {},
   "source": [
    "## Feature extraction from the description\n",
    "\n",
    "#### First we are going to extract all from the description \n",
    "\n",
    "            Disclaimer: This will be incomplete because the demo dataset has titles skills, etc already separated\n",
    "                        nontheless it will be implemented to demostrate that it can work\n",
    "#### In order to do this "
   ]
  },
  {
   "cell_type": "markdown",
   "metadata": {},
   "source": [
    "\n",
    "        "
   ]
  }
 ],
 "metadata": {
  "kernelspec": {
   "display_name": "job_seeker",
   "language": "python",
   "name": "python3"
  },
  "language_info": {
   "codemirror_mode": {
    "name": "ipython",
    "version": 3
   },
   "file_extension": ".py",
   "mimetype": "text/x-python",
   "name": "python",
   "nbconvert_exporter": "python",
   "pygments_lexer": "ipython3",
   "version": "3.11.0"
  }
 },
 "nbformat": 4,
 "nbformat_minor": 2
}
